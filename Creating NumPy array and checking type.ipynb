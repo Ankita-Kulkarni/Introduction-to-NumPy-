{
 "cells": [
  {
   "cell_type": "code",
   "execution_count": 1,
   "id": "3984cd02",
   "metadata": {},
   "outputs": [],
   "source": [
    "import numpy as np"
   ]
  },
  {
   "cell_type": "code",
   "execution_count": 2,
   "id": "65009857",
   "metadata": {},
   "outputs": [
    {
     "name": "stdout",
     "output_type": "stream",
     "text": [
      "Single dimensional array:  [10 20 30 40]\n"
     ]
    }
   ],
   "source": [
    "n1 = np.array([10,20,30,40])     #single-dimensional array\n",
    "print(\"Single dimensional array: \",n1)"
   ]
  },
  {
   "cell_type": "code",
   "execution_count": 7,
   "id": "6c22759b",
   "metadata": {},
   "outputs": [
    {
     "data": {
      "text/plain": [
       "numpy.ndarray"
      ]
     },
     "execution_count": 7,
     "metadata": {},
     "output_type": "execute_result"
    }
   ],
   "source": [
    "type(n1)"
   ]
  },
  {
   "cell_type": "code",
   "execution_count": 3,
   "id": "1fa76ad7",
   "metadata": {},
   "outputs": [
    {
     "name": "stdout",
     "output_type": "stream",
     "text": [
      "Multi dimensional array:  [[10 20 30 40]\n",
      " [50 60 70 80]]\n"
     ]
    }
   ],
   "source": [
    "n2 = np.array([[10,20,30,40],[50,60,70,80]])       #multi-dimensional array\n",
    "print(\"Multi dimensional array: \",n2)"
   ]
  },
  {
   "cell_type": "code",
   "execution_count": 5,
   "id": "e9d92935",
   "metadata": {},
   "outputs": [
    {
     "data": {
      "text/plain": [
       "numpy.ndarray"
      ]
     },
     "execution_count": 5,
     "metadata": {},
     "output_type": "execute_result"
    }
   ],
   "source": [
    "type(n2)"
   ]
  }
 ],
 "metadata": {
  "kernelspec": {
   "display_name": "Python 3",
   "language": "python",
   "name": "python3"
  },
  "language_info": {
   "codemirror_mode": {
    "name": "ipython",
    "version": 3
   },
   "file_extension": ".py",
   "mimetype": "text/x-python",
   "name": "python",
   "nbconvert_exporter": "python",
   "pygments_lexer": "ipython3",
   "version": "3.8.8"
  }
 },
 "nbformat": 4,
 "nbformat_minor": 5
}
