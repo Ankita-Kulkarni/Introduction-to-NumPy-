{
 "cells": [
  {
   "cell_type": "code",
   "execution_count": 1,
   "id": "03c76e37",
   "metadata": {},
   "outputs": [
    {
     "data": {
      "text/plain": [
       "array([50])"
      ]
     },
     "execution_count": 1,
     "metadata": {},
     "output_type": "execute_result"
    }
   ],
   "source": [
    "import numpy as np\n",
    "n1 = np.array([10,20,30,40,50])\n",
    "n2 = np.array([50,60,70,80,90])\n",
    "np.intersect1d(n1,n2) #intersection of n1 and n2"
   ]
  },
  {
   "cell_type": "code",
   "execution_count": 1,
   "id": "5fc0bbec",
   "metadata": {},
   "outputs": [
    {
     "data": {
      "text/plain": [
       "array([10, 20, 30, 40])"
      ]
     },
     "execution_count": 1,
     "metadata": {},
     "output_type": "execute_result"
    }
   ],
   "source": [
    "import numpy as np\n",
    "n1 = np.array([10,20,30,40,50])\n",
    "n2 = np.array([50,60,70,80,90])\n",
    "np.setdiff1d(n1,n2)        #n1-n2"
   ]
  },
  {
   "cell_type": "code",
   "execution_count": 4,
   "id": "f0611941",
   "metadata": {
    "scrolled": false
   },
   "outputs": [
    {
     "data": {
      "text/plain": [
       "array([ 70,  80,  90, 100])"
      ]
     },
     "execution_count": 4,
     "metadata": {},
     "output_type": "execute_result"
    }
   ],
   "source": [
    "import numpy as np\n",
    "n1 = np.array([[10,20],[30,40],[50,60]])\n",
    "n2 = np.array([[50,60],[70,80],[90,100]])\n",
    "np.setdiff1d(n2,n1)       #n2-n1"
   ]
  },
  {
   "cell_type": "code",
   "execution_count": 4,
   "id": "7ac96c8a",
   "metadata": {},
   "outputs": [],
   "source": [
    "# Basic Addition, subtraction, Multiplication and Division"
   ]
  },
  {
   "cell_type": "code",
   "execution_count": 5,
   "id": "82401d56",
   "metadata": {},
   "outputs": [],
   "source": [
    "import numpy as np\n",
    "n1 = np.array([100,200,300])\n",
    "n2 = np.array([1,2,3])"
   ]
  },
  {
   "cell_type": "code",
   "execution_count": 6,
   "id": "fb3a2a23",
   "metadata": {},
   "outputs": [
    {
     "name": "stdout",
     "output_type": "stream",
     "text": [
      "[102 202 302]\n"
     ]
    }
   ],
   "source": [
    "#add all values of n1 by 2\n",
    "n1 = n1+2                \n",
    "print(n1)"
   ]
  },
  {
   "cell_type": "code",
   "execution_count": 7,
   "id": "cd385c01",
   "metadata": {},
   "outputs": [
    {
     "name": "stdout",
     "output_type": "stream",
     "text": [
      "[3 6 9]\n"
     ]
    }
   ],
   "source": [
    "#multiply all values of n2 by 3\n",
    "n2 = n2 * 3           \n",
    "print(n2)"
   ]
  },
  {
   "cell_type": "code",
   "execution_count": 8,
   "id": "ac953441",
   "metadata": {},
   "outputs": [
    {
     "data": {
      "text/plain": [
       "array([1., 2., 3.])"
      ]
     },
     "execution_count": 8,
     "metadata": {},
     "output_type": "execute_result"
    }
   ],
   "source": [
    " #divide all values of n2 by 3\n",
    "n2 = n2 / 3          \n",
    "n2"
   ]
  },
  {
   "cell_type": "code",
   "execution_count": 9,
   "id": "975283a6",
   "metadata": {},
   "outputs": [
    {
     "data": {
      "text/plain": [
       "array([101, 201, 301])"
      ]
     },
     "execution_count": 9,
     "metadata": {},
     "output_type": "execute_result"
    }
   ],
   "source": [
    "#subtract all values of n1 by 1\n",
    "n1 = n1 - 1          \n",
    "n1"
   ]
  },
  {
   "cell_type": "code",
   "execution_count": 2,
   "id": "d292ab31",
   "metadata": {},
   "outputs": [
    {
     "data": {
      "text/plain": [
       "array([10, 20, 30, 40, 50])"
      ]
     },
     "execution_count": 2,
     "metadata": {},
     "output_type": "execute_result"
    }
   ],
   "source": [
    "import numpy as np\n",
    "n10 = np.array([10,20,30,40,50])\n",
    "n10.T"
   ]
  },
  {
   "cell_type": "code",
   "execution_count": null,
   "id": "1eefa6cc",
   "metadata": {},
   "outputs": [],
   "source": []
  }
 ],
 "metadata": {
  "kernelspec": {
   "display_name": "Python 3",
   "language": "python",
   "name": "python3"
  },
  "language_info": {
   "codemirror_mode": {
    "name": "ipython",
    "version": 3
   },
   "file_extension": ".py",
   "mimetype": "text/x-python",
   "name": "python",
   "nbconvert_exporter": "python",
   "pygments_lexer": "ipython3",
   "version": "3.8.8"
  }
 },
 "nbformat": 4,
 "nbformat_minor": 5
}
