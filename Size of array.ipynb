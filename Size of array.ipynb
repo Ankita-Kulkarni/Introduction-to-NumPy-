{
 "cells": [
  {
   "cell_type": "code",
   "execution_count": 3,
   "id": "db3c2b26",
   "metadata": {},
   "outputs": [],
   "source": [
    "import numpy as np"
   ]
  },
  {
   "cell_type": "code",
   "execution_count": 4,
   "id": "6e4b708b",
   "metadata": {},
   "outputs": [
    {
     "name": "stdout",
     "output_type": "stream",
     "text": [
      "4\n"
     ]
    }
   ],
   "source": [
    "n1 = np.array([10,20,30,40])\n",
    "print(n1.size)     #size determines the number of elements in the array"
   ]
  },
  {
   "cell_type": "code",
   "execution_count": 5,
   "id": "28996ee7",
   "metadata": {},
   "outputs": [
    {
     "name": "stdout",
     "output_type": "stream",
     "text": [
      "10\n"
     ]
    }
   ],
   "source": [
    "n2 = np.array([[10,20,30,40,100],[50,60,70,80,90]])\n",
    "print(n2.size)"
   ]
  },
  {
   "cell_type": "code",
   "execution_count": 7,
   "id": "06bbf835",
   "metadata": {},
   "outputs": [
    {
     "name": "stdout",
     "output_type": "stream",
     "text": [
      "None\n"
     ]
    }
   ],
   "source": [
    "print(n2.resize(3,5))"
   ]
  },
  {
   "cell_type": "code",
   "execution_count": 8,
   "id": "fc2a2b38",
   "metadata": {},
   "outputs": [
    {
     "data": {
      "text/plain": [
       "array([[ 10,  50,   0],\n",
       "       [ 20,  60,   0],\n",
       "       [ 30,  70,   0],\n",
       "       [ 40,  80,   0],\n",
       "       [100,  90,   0]])"
      ]
     },
     "execution_count": 8,
     "metadata": {},
     "output_type": "execute_result"
    }
   ],
   "source": [
    "n2.T"
   ]
  },
  {
   "cell_type": "code",
   "execution_count": null,
   "id": "8ecec8c0",
   "metadata": {},
   "outputs": [],
   "source": []
  }
 ],
 "metadata": {
  "kernelspec": {
   "display_name": "Python 3",
   "language": "python",
   "name": "python3"
  },
  "language_info": {
   "codemirror_mode": {
    "name": "ipython",
    "version": 3
   },
   "file_extension": ".py",
   "mimetype": "text/x-python",
   "name": "python",
   "nbconvert_exporter": "python",
   "pygments_lexer": "ipython3",
   "version": "3.8.8"
  }
 },
 "nbformat": 4,
 "nbformat_minor": 5
}
