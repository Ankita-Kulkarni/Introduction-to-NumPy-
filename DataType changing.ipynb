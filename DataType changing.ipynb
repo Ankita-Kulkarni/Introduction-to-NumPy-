{
 "cells": [
  {
   "cell_type": "code",
   "execution_count": 1,
   "id": "9cae7026",
   "metadata": {},
   "outputs": [],
   "source": [
    "import numpy as np"
   ]
  },
  {
   "cell_type": "code",
   "execution_count": 2,
   "id": "ee998a71",
   "metadata": {},
   "outputs": [],
   "source": [
    "lst = [1,40,30,56,88,28]"
   ]
  },
  {
   "cell_type": "code",
   "execution_count": 3,
   "id": "ddc8a02b",
   "metadata": {},
   "outputs": [
    {
     "data": {
      "text/plain": [
       "array([ 1., 40., 30., 56., 88., 28.])"
      ]
     },
     "execution_count": 3,
     "metadata": {},
     "output_type": "execute_result"
    }
   ],
   "source": [
    "np.array(lst, dtype=float)      #'dtype' is used to change the data type from int to float"
   ]
  },
  {
   "cell_type": "code",
   "execution_count": null,
   "id": "e5d69596",
   "metadata": {},
   "outputs": [],
   "source": []
  }
 ],
 "metadata": {
  "kernelspec": {
   "display_name": "Python 3",
   "language": "python",
   "name": "python3"
  },
  "language_info": {
   "codemirror_mode": {
    "name": "ipython",
    "version": 3
   },
   "file_extension": ".py",
   "mimetype": "text/x-python",
   "name": "python",
   "nbconvert_exporter": "python",
   "pygments_lexer": "ipython3",
   "version": "3.8.8"
  }
 },
 "nbformat": 4,
 "nbformat_minor": 5
}
