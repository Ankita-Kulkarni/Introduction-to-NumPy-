{
 "cells": [
  {
   "cell_type": "markdown",
   "id": "8eb807e1",
   "metadata": {},
   "source": [
    "# Array Iteration"
   ]
  },
  {
   "cell_type": "markdown",
   "id": "e75ce10d",
   "metadata": {},
   "source": [
    "# Iterating 1D array"
   ]
  },
  {
   "cell_type": "code",
   "execution_count": 5,
   "id": "b9f46872",
   "metadata": {},
   "outputs": [
    {
     "name": "stdout",
     "output_type": "stream",
     "text": [
      "1\n",
      "2\n",
      "3\n",
      "4\n",
      "5\n"
     ]
    }
   ],
   "source": [
    "import numpy as np\n",
    "arr=np.array([1,2,3,4,5])\n",
    "for i in arr:\n",
    "    print(i)"
   ]
  },
  {
   "cell_type": "markdown",
   "id": "782d6819",
   "metadata": {},
   "source": [
    "# Iterating 2D array"
   ]
  },
  {
   "cell_type": "code",
   "execution_count": 7,
   "id": "c3bee6dc",
   "metadata": {},
   "outputs": [
    {
     "name": "stdout",
     "output_type": "stream",
     "text": [
      "[1 2 3]\n",
      "[4 5 6]\n"
     ]
    }
   ],
   "source": [
    "arr=np.array([[1,2,3],[4,5,6]])\n",
    "for i in arr:\n",
    "    print(i)"
   ]
  },
  {
   "cell_type": "code",
   "execution_count": 8,
   "id": "78b3c635",
   "metadata": {},
   "outputs": [
    {
     "name": "stdout",
     "output_type": "stream",
     "text": [
      "1\n",
      "2\n",
      "3\n",
      "4\n",
      "5\n",
      "6\n"
     ]
    }
   ],
   "source": [
    "arr=np.array([[1,2,3],[4,5,6]])\n",
    "for i in arr:\n",
    "    for j in i:\n",
    "        print(j)"
   ]
  },
  {
   "cell_type": "markdown",
   "id": "78f16409",
   "metadata": {},
   "source": [
    "# Iterating 3-D Arrays"
   ]
  },
  {
   "cell_type": "code",
   "execution_count": 9,
   "id": "1927cc45",
   "metadata": {},
   "outputs": [
    {
     "name": "stdout",
     "output_type": "stream",
     "text": [
      "i represents 2D array:\n",
      "\n",
      "[[1 2 3]\n",
      " [4 5 6]]\n",
      "i represents 2D array:\n",
      "\n",
      "[[ 7  8  9]\n",
      " [10 11 12]]\n"
     ]
    }
   ],
   "source": [
    "arr = np.array([[[1,2,3],[4,5,6]],[[7,8,9],[10,11,12]]])\n",
    "for i in arr:\n",
    "    print(\"i represents 2D array:\\n\")\n",
    "    print(i)"
   ]
  },
  {
   "cell_type": "markdown",
   "id": "2005195d",
   "metadata": {},
   "source": [
    "# Iterating 3-D Arrays using nditer()"
   ]
  },
  {
   "cell_type": "code",
   "execution_count": 10,
   "id": "2699c376",
   "metadata": {},
   "outputs": [
    {
     "name": "stdout",
     "output_type": "stream",
     "text": [
      "1\n",
      "2\n",
      "3\n",
      "4\n",
      "5\n",
      "6\n",
      "7\n",
      "8\n",
      "9\n",
      "10\n",
      "11\n",
      "12\n"
     ]
    }
   ],
   "source": [
    "arr=np.array([[[1,2,3],[4,5,6]],[[7,8,9],[10,11,12]]])\n",
    "for i in np.nditer(arr):\n",
    "    print(i)"
   ]
  },
  {
   "cell_type": "markdown",
   "id": "a3784820",
   "metadata": {},
   "source": [
    "# Enumerated Iteration Using ndenumerate()"
   ]
  },
  {
   "cell_type": "code",
   "execution_count": 12,
   "id": "ac366a97",
   "metadata": {},
   "outputs": [
    {
     "name": "stdout",
     "output_type": "stream",
     "text": [
      "(0,) 1\n",
      "(1,) 2\n",
      "(2,) 3\n",
      "(3,) 4\n"
     ]
    }
   ],
   "source": [
    "arr = np.array([1,2,3,4])\n",
    "for idx, i in np.ndenumerate(arr):\n",
    "    print(idx, i)"
   ]
  },
  {
   "cell_type": "code",
   "execution_count": 13,
   "id": "9ae7687b",
   "metadata": {},
   "outputs": [
    {
     "name": "stdout",
     "output_type": "stream",
     "text": [
      "(0, 0) 1\n",
      "(0, 1) 2\n",
      "(1, 0) 3\n",
      "(1, 1) 4\n"
     ]
    }
   ],
   "source": [
    "arr = np.array([[1,2],[3,4]])\n",
    "for idx, i in np.ndenumerate(arr):\n",
    "    print(idx, i)"
   ]
  },
  {
   "cell_type": "code",
   "execution_count": 14,
   "id": "8bc96ebd",
   "metadata": {},
   "outputs": [
    {
     "name": "stdout",
     "output_type": "stream",
     "text": [
      "(0, 0, 0) 1\n",
      "(0, 0, 1) 2\n",
      "(0, 1, 0) 3\n",
      "(0, 1, 1) 4\n",
      "(1, 0, 0) 5\n",
      "(1, 0, 1) 6\n",
      "(1, 1, 0) 7\n",
      "(1, 1, 1) 8\n"
     ]
    }
   ],
   "source": [
    "arr = np.array([[[1,2],[3,4]],[[5,6],[7,8]]])\n",
    "for idx, i in np.ndenumerate(arr):\n",
    "    print(idx, i)"
   ]
  },
  {
   "cell_type": "code",
   "execution_count": null,
   "id": "de0a5f6b",
   "metadata": {},
   "outputs": [],
   "source": []
  }
 ],
 "metadata": {
  "kernelspec": {
   "display_name": "Python 3",
   "language": "python",
   "name": "python3"
  },
  "language_info": {
   "codemirror_mode": {
    "name": "ipython",
    "version": 3
   },
   "file_extension": ".py",
   "mimetype": "text/x-python",
   "name": "python",
   "nbconvert_exporter": "python",
   "pygments_lexer": "ipython3",
   "version": "3.8.8"
  }
 },
 "nbformat": 4,
 "nbformat_minor": 5
}
