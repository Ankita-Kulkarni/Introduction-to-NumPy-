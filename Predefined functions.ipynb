{
 "cells": [
  {
   "cell_type": "markdown",
   "id": "ea117c2f",
   "metadata": {},
   "source": [
    "# NumPy Predefined functions"
   ]
  },
  {
   "cell_type": "code",
   "execution_count": 1,
   "id": "82790612",
   "metadata": {},
   "outputs": [],
   "source": [
    "import numpy as np\n",
    "n1 = np.array([1,2,6,8,10,22,45,9])"
   ]
  },
  {
   "cell_type": "markdown",
   "id": "71017e2b",
   "metadata": {},
   "source": [
    "# max()"
   ]
  },
  {
   "cell_type": "code",
   "execution_count": 2,
   "id": "94090b45",
   "metadata": {},
   "outputs": [
    {
     "data": {
      "text/plain": [
       "45"
      ]
     },
     "execution_count": 2,
     "metadata": {},
     "output_type": "execute_result"
    }
   ],
   "source": [
    "np.max(n1)"
   ]
  },
  {
   "cell_type": "markdown",
   "id": "abcbae58",
   "metadata": {},
   "source": [
    "# min()"
   ]
  },
  {
   "cell_type": "code",
   "execution_count": 3,
   "id": "e71ce0ca",
   "metadata": {},
   "outputs": [
    {
     "data": {
      "text/plain": [
       "1"
      ]
     },
     "execution_count": 3,
     "metadata": {},
     "output_type": "execute_result"
    }
   ],
   "source": [
    "np.min(n1)"
   ]
  },
  {
   "cell_type": "markdown",
   "id": "4b6ddc52",
   "metadata": {},
   "source": [
    "# sum()"
   ]
  },
  {
   "cell_type": "code",
   "execution_count": 4,
   "id": "b0da32c4",
   "metadata": {},
   "outputs": [
    {
     "data": {
      "text/plain": [
       "103"
      ]
     },
     "execution_count": 4,
     "metadata": {},
     "output_type": "execute_result"
    }
   ],
   "source": [
    "np.sum(n1)"
   ]
  },
  {
   "cell_type": "code",
   "execution_count": null,
   "id": "35ec68b3",
   "metadata": {},
   "outputs": [],
   "source": []
  }
 ],
 "metadata": {
  "kernelspec": {
   "display_name": "Python 3",
   "language": "python",
   "name": "python3"
  },
  "language_info": {
   "codemirror_mode": {
    "name": "ipython",
    "version": 3
   },
   "file_extension": ".py",
   "mimetype": "text/x-python",
   "name": "python",
   "nbconvert_exporter": "python",
   "pygments_lexer": "ipython3",
   "version": "3.8.8"
  }
 },
 "nbformat": 4,
 "nbformat_minor": 5
}
