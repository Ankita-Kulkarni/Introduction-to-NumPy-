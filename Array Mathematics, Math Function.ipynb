{
 "cells": [
  {
   "cell_type": "code",
   "execution_count": 1,
   "id": "a644561e",
   "metadata": {},
   "outputs": [],
   "source": [
    "import numpy as np"
   ]
  },
  {
   "cell_type": "code",
   "execution_count": 2,
   "id": "5bb36ff8",
   "metadata": {},
   "outputs": [],
   "source": [
    "n1 = np.array([10,20])\n",
    "n2 = np.array([30,40])"
   ]
  },
  {
   "cell_type": "code",
   "execution_count": 3,
   "id": "1dea291d",
   "metadata": {},
   "outputs": [
    {
     "data": {
      "text/plain": [
       "100"
      ]
     },
     "execution_count": 3,
     "metadata": {},
     "output_type": "execute_result"
    }
   ],
   "source": [
    "np.sum([n1,n2])        #add n1 and n2"
   ]
  },
  {
   "cell_type": "code",
   "execution_count": 4,
   "id": "635c1109",
   "metadata": {},
   "outputs": [
    {
     "data": {
      "text/plain": [
       "array([40, 60])"
      ]
     },
     "execution_count": 4,
     "metadata": {},
     "output_type": "execute_result"
    }
   ],
   "source": [
    "#add values of different numpy arrays i.e. 10+30 and 20+40\n",
    "np.sum([n1,n2], axis=0)       "
   ]
  },
  {
   "cell_type": "code",
   "execution_count": 5,
   "id": "a9da2643",
   "metadata": {},
   "outputs": [
    {
     "data": {
      "text/plain": [
       "array([30, 70])"
      ]
     },
     "execution_count": 5,
     "metadata": {},
     "output_type": "execute_result"
    }
   ],
   "source": [
    "#add values of one single numpy array i.e. 10+20 and 30+40\n",
    "np.sum([n1,n2], axis=1)       "
   ]
  },
  {
   "cell_type": "code",
   "execution_count": 6,
   "id": "d822d0fe",
   "metadata": {},
   "outputs": [
    {
     "data": {
      "text/plain": [
       "15.0"
      ]
     },
     "execution_count": 6,
     "metadata": {},
     "output_type": "execute_result"
    }
   ],
   "source": [
    "#mean of n1 = (10+20)/2 = 15.\n",
    "np.mean(n1)          "
   ]
  },
  {
   "cell_type": "code",
   "execution_count": 14,
   "id": "1b637051",
   "metadata": {},
   "outputs": [
    {
     "data": {
      "text/plain": [
       "35.0"
      ]
     },
     "execution_count": 14,
     "metadata": {},
     "output_type": "execute_result"
    }
   ],
   "source": [
    " #mean of n2 = (30+40)/2 = 35.\n",
    "np.mean(n2)         "
   ]
  },
  {
   "cell_type": "code",
   "execution_count": 15,
   "id": "44a0da4d",
   "metadata": {},
   "outputs": [
    {
     "data": {
      "text/plain": [
       "5.0"
      ]
     },
     "execution_count": 15,
     "metadata": {},
     "output_type": "execute_result"
    }
   ],
   "source": [
    " #standard deviation of n1\n",
    "np.std(n1)          "
   ]
  },
  {
   "cell_type": "code",
   "execution_count": 17,
   "id": "9d8d8cd2",
   "metadata": {},
   "outputs": [
    {
     "data": {
      "text/plain": [
       "5.0"
      ]
     },
     "execution_count": 17,
     "metadata": {},
     "output_type": "execute_result"
    }
   ],
   "source": [
    "  #standard deviation of n2\n",
    "np.std(n2)         "
   ]
  },
  {
   "cell_type": "code",
   "execution_count": 2,
   "id": "39c6d3da",
   "metadata": {},
   "outputs": [
    {
     "data": {
      "text/plain": [
       "15.0"
      ]
     },
     "execution_count": 2,
     "metadata": {},
     "output_type": "execute_result"
    }
   ],
   "source": [
    "np.median(n1)"
   ]
  },
  {
   "cell_type": "code",
   "execution_count": 12,
   "id": "bccc4a7c",
   "metadata": {},
   "outputs": [
    {
     "name": "stdout",
     "output_type": "stream",
     "text": [
      "Mean:  15.0\n",
      "Standard Deviation:  5.0\n",
      "Median:  15.0\n",
      "Variance:  25.0\n"
     ]
    }
   ],
   "source": [
    "import numpy as np\n",
    "n1 = np.array([10,20])\n",
    "#mean of n1 = (10+20)/2 = 15.\n",
    "print(\"Mean: \",np.mean(n1))\n",
    "#standard deviation of n1\n",
    "print(\"Standard Deviation: \",np.std(n1))\n",
    "#median of n1\n",
    "print(\"Median: \",np.median(n1))\n",
    "#Variance of n1\n",
    "print(\"Variance: \",np.var(n1))"
   ]
  },
  {
   "cell_type": "code",
   "execution_count": null,
   "id": "4f417d1b",
   "metadata": {},
   "outputs": [],
   "source": []
  }
 ],
 "metadata": {
  "kernelspec": {
   "display_name": "Python 3",
   "language": "python",
   "name": "python3"
  },
  "language_info": {
   "codemirror_mode": {
    "name": "ipython",
    "version": 3
   },
   "file_extension": ".py",
   "mimetype": "text/x-python",
   "name": "python",
   "nbconvert_exporter": "python",
   "pygments_lexer": "ipython3",
   "version": "3.8.8"
  }
 },
 "nbformat": 4,
 "nbformat_minor": 5
}
